{
 "cells": [
  {
   "cell_type": "markdown",
   "id": "51891915",
   "metadata": {},
   "source": [
    "# Demand Forecasting using SARIMAX\n",
    "This notebook demonstrates the use of SARIMAX for forecasting retail demand using exogenous variables."
   ]
  },
  {
   "cell_type": "code",
   "execution_count": null,
   "id": "6faba2a0",
   "metadata": {},
   "outputs": [],
   "source": [
    "import pandas as pd\n",
    "from statsmodels.tsa.statespace.sarimax import SARIMAX\n",
    "from sklearn.metrics import mean_absolute_error, mean_squared_error\n",
    "import numpy as np\n",
    "import matplotlib.pyplot as plt\n",
    "import seaborn as sns\n",
    "\n",
    "# Load dataset\n",
    "df = pd.read_csv('retail_store_inventory_preprocessed.csv')\n",
    "df['Date'] = pd.to_datetime(df['Date'])"
   ]
  },
  {
   "cell_type": "markdown",
   "id": "1873c9fd",
   "metadata": {},
   "source": [
    "## Aggregate data by Date\n",
    "We sum `Units Sold` and average the exogenous variables to prepare a time series."
   ]
  },
  {
   "cell_type": "code",
   "execution_count": null,
   "id": "eaa9e8a0",
   "metadata": {},
   "outputs": [],
   "source": [
    "daily_df = df.groupby('Date').agg({\n",
    "    'Units Sold': 'sum',\n",
    "    'Inventory Level': 'mean',\n",
    "    'Price': 'mean',\n",
    "    'Discount': 'mean',\n",
    "    'Weather Condition': 'mean',\n",
    "    'Holiday/Promotion': 'mean',\n",
    "    'Competitor Pricing': 'mean',\n",
    "    'Seasonality': 'mean'\n",
    "}).reset_index()"
   ]
  },
  {
   "cell_type": "markdown",
   "id": "b4e40a03",
   "metadata": {},
   "source": [
    "## Visualize the sales trend"
   ]
  },
  {
   "cell_type": "code",
   "execution_count": null,
   "id": "6bd05991",
   "metadata": {},
   "outputs": [],
   "source": [
    "plt.figure(figsize=(12, 5))\n",
    "sns.lineplot(data=daily_df, x='Date', y='Units Sold')\n",
    "plt.title('Daily Units Sold Over Time')\n",
    "plt.xlabel('Date')\n",
    "plt.ylabel('Units Sold')\n",
    "plt.tight_layout()\n",
    "plt.show()"
   ]
  },
  {
   "cell_type": "markdown",
   "id": "a1a4ad3d",
   "metadata": {},
   "source": [
    "## Train SARIMAX model"
   ]
  },
  {
   "cell_type": "code",
   "execution_count": null,
   "id": "7c18a2d2",
   "metadata": {},
   "outputs": [],
   "source": [
    "# Prepare data\n",
    "daily_df.set_index('Date', inplace=True)\n",
    "train = daily_df.iloc[:-30]\n",
    "test = daily_df.iloc[-30:]\n",
    "\n",
    "endog_train = train['Units Sold']\n",
    "exog_train = train.drop(columns=['Units Sold'])\n",
    "endog_test = test['Units Sold']\n",
    "exog_test = test.drop(columns=['Units Sold'])"
   ]
  },
  {
   "cell_type": "code",
   "execution_count": null,
   "id": "ccb614c7",
   "metadata": {},
   "outputs": [],
   "source": [
    "# Fit model\n",
    "model = SARIMAX(endog_train,\n",
    "                exog=exog_train,\n",
    "                order=(1, 1, 1),\n",
    "                seasonal_order=(0, 1, 1, 7),\n",
    "                enforce_stationarity=False,\n",
    "                enforce_invertibility=False)\n",
    "\n",
    "results = model.fit(disp=False)"
   ]
  },
  {
   "cell_type": "markdown",
   "id": "d1f0761e",
   "metadata": {},
   "source": [
    "## Forecast and Evaluate"
   ]
  },
  {
   "cell_type": "code",
   "execution_count": null,
   "id": "687c0ebf",
   "metadata": {},
   "outputs": [],
   "source": [
    "forecast = results.predict(start=test.index[0], end=test.index[-1], exog=exog_test)\n",
    "\n",
    "mae = mean_absolute_error(endog_test, forecast)\n",
    "rmse = np.sqrt(mean_squared_error(endog_test, forecast))\n",
    "\n",
    "print(f\"MAE: {mae:.2f}, RMSE: {rmse:.2f}\")"
   ]
  },
  {
   "cell_type": "markdown",
   "id": "480a5f41",
   "metadata": {},
   "source": [
    "## Plot Forecast vs Actual"
   ]
  },
  {
   "cell_type": "code",
   "execution_count": null,
   "id": "827ec38b",
   "metadata": {},
   "outputs": [],
   "source": [
    "plt.figure(figsize=(10, 5))\n",
    "plt.plot(test.index, endog_test, label='Actual')\n",
    "plt.plot(test.index, forecast, label='Forecast', linestyle='--')\n",
    "plt.title('Forecast vs Actual (Last 30 Days)')\n",
    "plt.xlabel('Date')\n",
    "plt.ylabel('Units Sold')\n",
    "plt.legend()\n",
    "plt.tight_layout()\n",
    "plt.show()"
   ]
  },
  {
   "cell_type": "markdown",
   "id": "2aa0cd68",
   "metadata": {},
   "source": [
    "## Save the model for deployment"
   ]
  },
  {
   "cell_type": "code",
   "execution_count": null,
   "id": "ab5d9782",
   "metadata": {},
   "outputs": [],
   "source": [
    "import joblib\n",
    "joblib.dump(results, 'sarimax_model.pkl')"
   ]
  }
 ],
 "metadata": {},
 "nbformat": 4,
 "nbformat_minor": 5
}