{
 "cells": [
  {
   "cell_type": "markdown",
   "id": "0b640166",
   "metadata": {},
   "source": [
    "# Nexford Final Project: Pricing Optimization using Linear Regression\n",
    "This notebook demonstrates demand prediction using a Linear Regression model with pricing-related features and dummy variables handled properly."
   ]
  },
  {
   "cell_type": "code",
   "execution_count": 2,
   "id": "e9745d12",
   "metadata": {},
   "outputs": [],
   "source": [
    "import pandas as pd\n",
    "import numpy as np\n",
    "import matplotlib.pyplot as plt\n",
    "import seaborn as sns\n",
    "from sklearn.linear_model import LinearRegression\n",
    "from sklearn.model_selection import train_test_split\n",
    "from sklearn.metrics import mean_squared_error, r2_score\n",
    "import statsmodels.api as sm\n"
   ]
  },
  {
   "cell_type": "code",
   "execution_count": 3,
   "id": "27a50a4a",
   "metadata": {},
   "outputs": [
    {
     "data": {
      "text/html": [
       "<div>\n",
       "<style scoped>\n",
       "    .dataframe tbody tr th:only-of-type {\n",
       "        vertical-align: middle;\n",
       "    }\n",
       "\n",
       "    .dataframe tbody tr th {\n",
       "        vertical-align: top;\n",
       "    }\n",
       "\n",
       "    .dataframe thead th {\n",
       "        text-align: right;\n",
       "    }\n",
       "</style>\n",
       "<table border=\"1\" class=\"dataframe\">\n",
       "  <thead>\n",
       "    <tr style=\"text-align: right;\">\n",
       "      <th></th>\n",
       "      <th>Date</th>\n",
       "      <th>Store ID</th>\n",
       "      <th>Product ID</th>\n",
       "      <th>Category</th>\n",
       "      <th>Region</th>\n",
       "      <th>Inventory Level</th>\n",
       "      <th>Units Sold</th>\n",
       "      <th>Units Ordered</th>\n",
       "      <th>Demand Forecast</th>\n",
       "      <th>Price</th>\n",
       "      <th>Discount</th>\n",
       "      <th>Weather Condition</th>\n",
       "      <th>Holiday/Promotion</th>\n",
       "      <th>Competitor Pricing</th>\n",
       "      <th>Seasonality</th>\n",
       "    </tr>\n",
       "  </thead>\n",
       "  <tbody>\n",
       "    <tr>\n",
       "      <th>0</th>\n",
       "      <td>2022-01-01</td>\n",
       "      <td>S001</td>\n",
       "      <td>P0001</td>\n",
       "      <td>Groceries</td>\n",
       "      <td>North</td>\n",
       "      <td>231</td>\n",
       "      <td>127</td>\n",
       "      <td>55</td>\n",
       "      <td>135.47</td>\n",
       "      <td>33.50</td>\n",
       "      <td>20</td>\n",
       "      <td>Rainy</td>\n",
       "      <td>0</td>\n",
       "      <td>29.69</td>\n",
       "      <td>Autumn</td>\n",
       "    </tr>\n",
       "    <tr>\n",
       "      <th>1</th>\n",
       "      <td>2022-01-01</td>\n",
       "      <td>S001</td>\n",
       "      <td>P0002</td>\n",
       "      <td>Toys</td>\n",
       "      <td>South</td>\n",
       "      <td>204</td>\n",
       "      <td>150</td>\n",
       "      <td>66</td>\n",
       "      <td>144.04</td>\n",
       "      <td>63.01</td>\n",
       "      <td>20</td>\n",
       "      <td>Sunny</td>\n",
       "      <td>0</td>\n",
       "      <td>66.16</td>\n",
       "      <td>Autumn</td>\n",
       "    </tr>\n",
       "    <tr>\n",
       "      <th>2</th>\n",
       "      <td>2022-01-01</td>\n",
       "      <td>S001</td>\n",
       "      <td>P0003</td>\n",
       "      <td>Toys</td>\n",
       "      <td>West</td>\n",
       "      <td>102</td>\n",
       "      <td>65</td>\n",
       "      <td>51</td>\n",
       "      <td>74.02</td>\n",
       "      <td>27.99</td>\n",
       "      <td>10</td>\n",
       "      <td>Sunny</td>\n",
       "      <td>1</td>\n",
       "      <td>31.32</td>\n",
       "      <td>Summer</td>\n",
       "    </tr>\n",
       "    <tr>\n",
       "      <th>3</th>\n",
       "      <td>2022-01-01</td>\n",
       "      <td>S001</td>\n",
       "      <td>P0004</td>\n",
       "      <td>Toys</td>\n",
       "      <td>North</td>\n",
       "      <td>469</td>\n",
       "      <td>61</td>\n",
       "      <td>164</td>\n",
       "      <td>62.18</td>\n",
       "      <td>32.72</td>\n",
       "      <td>10</td>\n",
       "      <td>Cloudy</td>\n",
       "      <td>1</td>\n",
       "      <td>34.74</td>\n",
       "      <td>Autumn</td>\n",
       "    </tr>\n",
       "    <tr>\n",
       "      <th>4</th>\n",
       "      <td>2022-01-01</td>\n",
       "      <td>S001</td>\n",
       "      <td>P0005</td>\n",
       "      <td>Electronics</td>\n",
       "      <td>East</td>\n",
       "      <td>166</td>\n",
       "      <td>14</td>\n",
       "      <td>135</td>\n",
       "      <td>9.26</td>\n",
       "      <td>73.64</td>\n",
       "      <td>0</td>\n",
       "      <td>Sunny</td>\n",
       "      <td>0</td>\n",
       "      <td>68.95</td>\n",
       "      <td>Summer</td>\n",
       "    </tr>\n",
       "  </tbody>\n",
       "</table>\n",
       "</div>"
      ],
      "text/plain": [
       "         Date Store ID Product ID     Category Region  Inventory Level  \\\n",
       "0  2022-01-01     S001      P0001    Groceries  North              231   \n",
       "1  2022-01-01     S001      P0002         Toys  South              204   \n",
       "2  2022-01-01     S001      P0003         Toys   West              102   \n",
       "3  2022-01-01     S001      P0004         Toys  North              469   \n",
       "4  2022-01-01     S001      P0005  Electronics   East              166   \n",
       "\n",
       "   Units Sold  Units Ordered  Demand Forecast  Price  Discount  \\\n",
       "0         127             55           135.47  33.50        20   \n",
       "1         150             66           144.04  63.01        20   \n",
       "2          65             51            74.02  27.99        10   \n",
       "3          61            164            62.18  32.72        10   \n",
       "4          14            135             9.26  73.64         0   \n",
       "\n",
       "  Weather Condition  Holiday/Promotion  Competitor Pricing Seasonality  \n",
       "0             Rainy                  0               29.69      Autumn  \n",
       "1             Sunny                  0               66.16      Autumn  \n",
       "2             Sunny                  1               31.32      Summer  \n",
       "3            Cloudy                  1               34.74      Autumn  \n",
       "4             Sunny                  0               68.95      Summer  "
      ]
     },
     "execution_count": 3,
     "metadata": {},
     "output_type": "execute_result"
    }
   ],
   "source": [
    "df = pd.read_csv(\"retail_store_inventory.csv\")\n",
    "df.head()\n"
   ]
  },
  {
   "cell_type": "markdown",
   "id": "8307a023",
   "metadata": {},
   "source": [
    "## Data Cleaning and Feature Preparation"
   ]
  },
  {
   "cell_type": "code",
   "execution_count": 5,
   "id": "0bc4dbd4",
   "metadata": {},
   "outputs": [],
   "source": [
    "# Drop missing values\n",
    "df.dropna(inplace=True)\n",
    "\n",
    "# Convert Discount to decimal\n",
    "df['Discount'] = df['Discount'] / 100.0\n",
    "\n",
    "# Create dummy variables\n",
    "df = pd.get_dummies(df, columns=['Region', 'Seasonality', 'Weather Condition'], drop_first=True)\n",
    "\n",
    "# Define features\n",
    "features = ['Price', 'Discount', 'Competitor Pricing', 'Holiday/Promotion'] +            [col for col in df.columns if 'Region_' in col or 'Seasonality_' in col or 'Weather Condition_' in col]\n",
    "\n",
    "X = df[features].copy()\n",
    "y = df['Units Sold'].astype(float)\n"
   ]
  },
  {
   "cell_type": "markdown",
   "id": "a94e86f5",
   "metadata": {},
   "source": [
    "## Train the Linear Regression Model"
   ]
  },
  {
   "cell_type": "code",
   "execution_count": 7,
   "id": "3230bb67",
   "metadata": {},
   "outputs": [
    {
     "name": "stdout",
     "output_type": "stream",
     "text": [
      "R-squared: -0.0010692515323100782\n",
      "RMSE: 108.86837975395044\n"
     ]
    }
   ],
   "source": [
    "X_train, X_test, y_train, y_test = train_test_split(X, y, test_size=0.2, random_state=42)\n",
    "\n",
    "model = LinearRegression()\n",
    "model.fit(X_train, y_train)\n",
    "\n",
    "y_pred = model.predict(X_test)\n",
    "\n",
    "print(\"R-squared:\", r2_score(y_test, y_pred))\n",
    "print(\"RMSE:\", np.sqrt(mean_squared_error(y_test, y_pred)))\n"
   ]
  },
  {
   "cell_type": "markdown",
   "id": "5366526e",
   "metadata": {},
   "source": [
    "## Confidence Intervals Using OLS"
   ]
  },
  {
   "cell_type": "code",
   "execution_count": 9,
   "id": "2b2a9769",
   "metadata": {},
   "outputs": [
    {
     "name": "stdout",
     "output_type": "stream",
     "text": [
      "                            OLS Regression Results                            \n",
      "==============================================================================\n",
      "Dep. Variable:             Units Sold   R-squared:                       0.000\n",
      "Model:                            OLS   Adj. R-squared:                  0.000\n",
      "Method:                 Least Squares   F-statistic:                     1.711\n",
      "Date:                Mon, 19 May 2025   Prob (F-statistic):             0.0518\n",
      "Time:                        14:33:48   Log-Likelihood:            -3.5729e+05\n",
      "No. Observations:               58480   AIC:                         7.146e+05\n",
      "Df Residuals:                   58466   BIC:                         7.147e+05\n",
      "Df Model:                          13                                         \n",
      "Covariance Type:            nonrobust                                         \n",
      "===========================================================================================\n",
      "                              coef    std err          t      P>|t|      [0.025      0.975]\n",
      "-------------------------------------------------------------------------------------------\n",
      "const                     138.0576      1.887     73.180      0.000     134.360     141.755\n",
      "Price                       0.0794      0.157      0.505      0.614      -0.229       0.387\n",
      "Discount                    5.5726      6.349      0.878      0.380      -6.871      18.016\n",
      "Competitor Pricing         -0.0793      0.156     -0.508      0.611      -0.385       0.227\n",
      "Holiday/Promotion          -0.0305      0.901     -0.034      0.973      -1.796       1.735\n",
      "Region_North               -0.3692      1.275     -0.290      0.772      -2.868       2.130\n",
      "Region_South               -0.0132      1.273     -0.010      0.992      -2.508       2.481\n",
      "Region_West                -1.7490      1.274     -1.372      0.170      -4.247       0.749\n",
      "Seasonality_Spring         -1.3296      1.276     -1.042      0.297      -3.830       1.171\n",
      "Seasonality_Summer         -3.6036      1.275     -2.826      0.005      -6.103      -1.104\n",
      "Seasonality_Winter         -0.7984      1.276     -0.626      0.531      -3.299       1.702\n",
      "Weather Condition_Rainy    -1.3287      1.273     -1.044      0.296      -3.823       1.166\n",
      "Weather Condition_Snowy    -0.6200      1.275     -0.486      0.627      -3.118       1.878\n",
      "Weather Condition_Sunny     2.4072      1.273      1.891      0.059      -0.088       4.903\n",
      "==============================================================================\n",
      "Omnibus:                     5886.057   Durbin-Watson:                   2.005\n",
      "Prob(Omnibus):                  0.000   Jarque-Bera (JB):             7886.366\n",
      "Skew:                           0.899   Prob(JB):                         0.00\n",
      "Kurtosis:                       3.040   Cond. No.                     1.22e+03\n",
      "==============================================================================\n",
      "\n",
      "Notes:\n",
      "[1] Standard Errors assume that the covariance matrix of the errors is correctly specified.\n",
      "[2] The condition number is large, 1.22e+03. This might indicate that there are\n",
      "strong multicollinearity or other numerical problems.\n"
     ]
    }
   ],
   "source": [
    "# Ensure all data is float\n",
    "X_train_ols = sm.add_constant(X_train.astype(float))\n",
    "ols_model = sm.OLS(y_train.astype(float), X_train_ols).fit()\n",
    "print(ols_model.summary())\n"
   ]
  },
  {
   "cell_type": "markdown",
   "id": "36ac23bd",
   "metadata": {},
   "source": [
    "## Predict Demand Function"
   ]
  },
  {
   "cell_type": "code",
   "execution_count": 11,
   "id": "b40dbee1",
   "metadata": {},
   "outputs": [
    {
     "data": {
      "text/plain": [
       "139.98425220332712"
      ]
     },
     "execution_count": 11,
     "metadata": {},
     "output_type": "execute_result"
    }
   ],
   "source": [
    "def predict_demand(price, discount, competitor_price, holiday, **kwargs):\n",
    "    # Create a base dictionary\n",
    "    input_data = {\n",
    "        'Price': price,\n",
    "        'Discount': discount,\n",
    "        'Competitor Pricing': competitor_price,\n",
    "        'Holiday/Promotion': holiday\n",
    "    }\n",
    "\n",
    "    # Add dummy variables\n",
    "    for col in X.columns:\n",
    "        if col not in input_data:\n",
    "            input_data[col] = kwargs.get(col, 0)\n",
    "\n",
    "    input_df = pd.DataFrame([input_data])\n",
    "    return model.predict(input_df)[0]\n",
    "\n",
    "# Example\n",
    "predict_demand(30, 0.1, 28, 1, **{'Region_North': 1, 'Seasonality_Winter': 1, 'Weather Condition_Sunny': 1})\n"
   ]
  },
  {
   "cell_type": "markdown",
   "id": "6154fb70",
   "metadata": {},
   "source": [
    "## Conclusion\n",
    "- Linear Regression model trained on cleaned retail data.\n",
    "- OLS summary shows significance and confidence of each feature.\n",
    "- `predict_demand()` enables dynamic user input integration in apps like Streamlit."
   ]
  }
 ],
 "metadata": {
  "kernelspec": {
   "display_name": "Python 3 (ipykernel)",
   "language": "python",
   "name": "python3"
  },
  "language_info": {
   "codemirror_mode": {
    "name": "ipython",
    "version": 3
   },
   "file_extension": ".py",
   "mimetype": "text/x-python",
   "name": "python",
   "nbconvert_exporter": "python",
   "pygments_lexer": "ipython3",
   "version": "3.11.7"
  }
 },
 "nbformat": 4,
 "nbformat_minor": 5
}
