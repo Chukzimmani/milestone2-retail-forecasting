{
 "cells": [
  {
   "cell_type": "markdown",
   "id": "647415ce",
   "metadata": {},
   "source": [
    "# Demand Forecasting: ARIMA vs Prophet\n",
    "This notebook compares ARIMA and fine-tuned Prophet models across the top 10 products, based on RMSE."
   ]
  },
  {
   "cell_type": "code",
   "execution_count": null,
   "id": "d8c321d2",
   "metadata": {},
   "outputs": [],
   "source": [
    "import pandas as pd\n",
    "import matplotlib.pyplot as plt"
   ]
  },
  {
   "cell_type": "markdown",
   "id": "6f2a3901",
   "metadata": {},
   "source": [
    "## RMSE Data for ARIMA and Prophet"
   ]
  },
  {
   "cell_type": "code",
   "execution_count": null,
   "id": "62aff190",
   "metadata": {},
   "outputs": [],
   "source": [
    "\n",
    "comparison_data = {\n",
    "    \"Product ID\": [\"P0016\", \"P0020\", \"P0014\", \"P0015\", \"P0005\", \"P0009\", \"P0013\", \"P0017\", \"P0011\", \"P0007\"],\n",
    "    \"ARIMA RMSE\": [216.07, 197.46, 230.76, 316.62, 283.94, 267.98, 210.55, 254.15, 298.02, 245.90],\n",
    "    \"Prophet RMSE\": [226.57, 191.27, 230.46, 194.67, 290.93, 261.99, 226.22, 250.62, 288.01, 272.53]\n",
    "}\n",
    "\n",
    "comparison_df = pd.DataFrame(comparison_data)\n",
    "comparison_df[\"Better Model\"] = comparison_df.apply(\n",
    "    lambda row: \"Prophet\" if row[\"Prophet RMSE\"] < row[\"ARIMA RMSE\"] else \"ARIMA\", axis=1\n",
    ")\n",
    "comparison_df\n"
   ]
  },
  {
   "cell_type": "markdown",
   "id": "04c90341",
   "metadata": {},
   "source": [
    "## Bar Chart: ARIMA vs Prophet"
   ]
  },
  {
   "cell_type": "code",
   "execution_count": null,
   "id": "f6d5d324",
   "metadata": {},
   "outputs": [],
   "source": [
    "\n",
    "bar_width = 0.35\n",
    "index = range(len(comparison_df))\n",
    "\n",
    "plt.figure(figsize=(12, 6))\n",
    "plt.bar(index, comparison_df[\"ARIMA RMSE\"], bar_width, label='ARIMA', alpha=0.8)\n",
    "plt.bar([i + bar_width for i in index], comparison_df[\"Prophet RMSE\"], bar_width, label='Prophet', alpha=0.8)\n",
    "\n",
    "plt.xlabel(\"Product ID\")\n",
    "plt.ylabel(\"RMSE\")\n",
    "plt.title(\"RMSE Comparison: ARIMA vs Fine-Tuned Prophet\")\n",
    "plt.xticks([i + bar_width / 2 for i in index], comparison_df[\"Product ID\"])\n",
    "plt.legend()\n",
    "plt.tight_layout()\n",
    "plt.grid(axis='y', linestyle='--', alpha=0.6)\n",
    "plt.show()\n"
   ]
  },
  {
   "cell_type": "markdown",
   "id": "8af19670",
   "metadata": {},
   "source": [
    "## Stakeholder Summary\n",
    "\n",
    "### Demand Forecasting Model Evaluation\n",
    "\n",
    "- **ARIMA**: strong for stable, linear demand  \n",
    "- **Prophet**: excels with seasonality, trend shifts, and promotions\n",
    "\n",
    "**Results Summary:**\n",
    "- Prophet outperformed ARIMA on **6 out of 10 products**\n",
    "- Prophet reduced RMSE by over **120 units** for Product `P0015`\n",
    "- ARIMA remained best for stable demand like `P0016` and `P0005`\n",
    "\n",
    "**Recommendation:**\n",
    "- Use Prophet for volatile/seasonal products\n",
    "- Use ARIMA for stable, predictable ones\n"
   ]
  }
 ],
 "metadata": {},
 "nbformat": 4,
 "nbformat_minor": 5
}
