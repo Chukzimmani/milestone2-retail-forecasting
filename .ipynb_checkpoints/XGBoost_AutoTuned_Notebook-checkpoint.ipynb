{
 "cells": [
  {
   "cell_type": "markdown",
   "id": "dbff26ff",
   "metadata": {},
   "source": [
    "# XGBoost with Auto-Tuning for Demand Prediction\n",
    "This notebook uses XGBoost with `RandomizedSearchCV` for automatic hyperparameter tuning.\n",
    "The goal is to predict `Units Sold` using pricing-related features and contextual variables."
   ]
  },
  {
   "cell_type": "code",
   "execution_count": null,
   "id": "15858956",
   "metadata": {},
   "outputs": [],
   "source": [
    "import pandas as pd\n",
    "import numpy as np\n",
    "from sklearn.model_selection import train_test_split, RandomizedSearchCV\n",
    "from sklearn.metrics import mean_squared_error, r2_score\n",
    "from xgboost import XGBRegressor\n",
    "from scipy.stats import uniform, randint\n"
   ]
  },
  {
   "cell_type": "code",
   "execution_count": null,
   "id": "d814d760",
   "metadata": {},
   "outputs": [],
   "source": [
    "# Load dataset\n",
    "df = pd.read_csv(\"retail_store_inventory.csv\")\n",
    "df.dropna(inplace=True)\n",
    "\n",
    "# Feature engineering\n",
    "df['Discount'] = df['Discount'] / 100.0\n",
    "df = pd.get_dummies(df, columns=['Region', 'Seasonality', 'Weather Condition'], drop_first=True)\n",
    "\n",
    "# Define features\n",
    "features = ['Price', 'Discount', 'Competitor Pricing', 'Holiday/Promotion', 'Inventory Level'] + \\\n",
    "           [col for col in df.columns if 'Region_' in col or 'Seasonality_' in col or 'Weather Condition_' in col]\n",
    "\n",
    "X = df[features]\n",
    "y = df['Units Sold']\n",
    "\n",
    "# Split into training and test sets\n",
    "X_train, X_test, y_train, y_test = train_test_split(X, y, test_size=0.2, random_state=42)\n"
   ]
  },
  {
   "cell_type": "code",
   "execution_count": null,
   "id": "c39c026b",
   "metadata": {},
   "outputs": [],
   "source": [
    "# Parameter distributions for randomized search\n",
    "param_dist = {\n",
    "    'n_estimators': randint(100, 300),\n",
    "    'max_depth': randint(3, 8),\n",
    "    'learning_rate': uniform(0.01, 0.1),\n",
    "    'subsample': uniform(0.7, 0.3),\n",
    "    'colsample_bytree': uniform(0.7, 0.3)\n",
    "}\n",
    "\n",
    "# Initialize XGBRegressor\n",
    "xgb_model = XGBRegressor(objective='reg:squarederror', random_state=42)\n",
    "\n",
    "# Randomized search with cross-validation\n",
    "random_search = RandomizedSearchCV(\n",
    "    estimator=xgb_model,\n",
    "    param_distributions=param_dist,\n",
    "    n_iter=10,\n",
    "    scoring='r2',\n",
    "    cv=3,\n",
    "    verbose=1,\n",
    "    n_jobs=-1,\n",
    "    random_state=42\n",
    ")\n",
    "\n",
    "# Fit the model (can take time on large datasets)\n",
    "random_search.fit(X_train, y_train)\n",
    "\n",
    "# Best model results\n",
    "best_model = random_search.best_estimator_\n",
    "print(\"Best Parameters:\", random_search.best_params_)\n",
    "print(\"Best CV R-squared:\", random_search.best_score_)\n"
   ]
  },
  {
   "cell_type": "code",
   "execution_count": null,
   "id": "17e34403",
   "metadata": {},
   "outputs": [],
   "source": [
    "# Predict and evaluate\n",
    "y_pred = best_model.predict(X_test)\n",
    "r2 = r2_score(y_test, y_pred)\n",
    "rmse = np.sqrt(mean_squared_error(y_test, y_pred))\n",
    "\n",
    "print(\"Test R-squared:\", r2)\n",
    "print(\"Test RMSE:\", rmse)\n"
   ]
  }
 ],
 "metadata": {},
 "nbformat": 4,
 "nbformat_minor": 5
}