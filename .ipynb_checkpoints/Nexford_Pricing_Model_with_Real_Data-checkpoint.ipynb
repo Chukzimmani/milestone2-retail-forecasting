{
 "cells": [
  {
   "cell_type": "markdown",
   "id": "19a31f88",
   "metadata": {},
   "source": [
    "# Nexford Final Project: Pricing Optimization using Linear Regression\n",
    "This notebook documents the full process of building a Linear Regression model to predict product demand (`Units Sold`) based on pricing, discounts, and other factors."
   ]
  },
  {
   "cell_type": "code",
   "execution_count": null,
   "id": "81ad685c",
   "metadata": {},
   "outputs": [],
   "source": [
    "import pandas as pd\n",
    "import numpy as np\n",
    "import matplotlib.pyplot as plt\n",
    "import seaborn as sns\n",
    "from sklearn.linear_model import LinearRegression\n",
    "from sklearn.model_selection import train_test_split\n",
    "from sklearn.metrics import mean_squared_error, r2_score\n",
    "import statsmodels.api as sm\n"
   ]
  },
  {
   "cell_type": "code",
   "execution_count": null,
   "id": "381f0210",
   "metadata": {},
   "outputs": [],
   "source": [
    "# Load the original uncleaned dataset\n",
    "df = pd.read_csv(\"retail_store_inventory.csv\")\n",
    "df.head()\n"
   ]
  },
  {
   "cell_type": "markdown",
   "id": "c6ab8544",
   "metadata": {},
   "source": [
    "## Data Cleaning & Preparation"
   ]
  },
  {
   "cell_type": "code",
   "execution_count": null,
   "id": "fa0dccd9",
   "metadata": {},
   "outputs": [],
   "source": [
    "# Drop any rows with missing values\n",
    "df.dropna(inplace=True)\n",
    "\n",
    "# Convert Discount from percentage to decimal\n",
    "df['Discount'] = df['Discount'] / 100.0\n",
    "\n",
    "# Optional: Convert categorical variables (like Region) into dummies\n",
    "df = pd.get_dummies(df, columns=['Region', 'Seasonality', 'Weather Condition'], drop_first=True)\n",
    "\n",
    "# Features we'll use for modeling\n",
    "features = ['Price', 'Discount', 'Competitor Pricing', 'Holiday/Promotion'] +            [col for col in df.columns if 'Region_' in col or 'Seasonality_' in col or 'Weather Condition_' in col]\n",
    "X = df[features]\n",
    "y = df['Units Sold']\n"
   ]
  },
  {
   "cell_type": "markdown",
   "id": "47b08c3b",
   "metadata": {},
   "source": [
    "## Linear Regression Model"
   ]
  },
  {
   "cell_type": "code",
   "execution_count": null,
   "id": "cd17a5a2",
   "metadata": {},
   "outputs": [],
   "source": [
    "# Split data\n",
    "X_train, X_test, y_train, y_test = train_test_split(X, y, test_size=0.2, random_state=42)\n",
    "\n",
    "# Train model\n",
    "model = LinearRegression()\n",
    "model.fit(X_train, y_train)\n",
    "\n",
    "# Predict\n",
    "y_pred = model.predict(X_test)\n",
    "\n",
    "# Evaluate\n",
    "print(\"R-squared:\", r2_score(y_test, y_pred))\n",
    "print(\"RMSE:\", np.sqrt(mean_squared_error(y_test, y_pred)))\n"
   ]
  },
  {
   "cell_type": "markdown",
   "id": "1a1b532c",
   "metadata": {},
   "source": [
    "## Confidence Intervals with OLS"
   ]
  },
  {
   "cell_type": "code",
   "execution_count": null,
   "id": "d963c9d3",
   "metadata": {},
   "outputs": [],
   "source": [
    "X_train_ols = sm.add_constant(X_train)\n",
    "ols_model = sm.OLS(y_train, X_train_ols).fit()\n",
    "print(ols_model.summary())\n"
   ]
  },
  {
   "cell_type": "markdown",
   "id": "7fce0cf8",
   "metadata": {},
   "source": [
    "## Predict Demand Function"
   ]
  },
  {
   "cell_type": "code",
   "execution_count": null,
   "id": "eef01e4c",
   "metadata": {},
   "outputs": [],
   "source": [
    "def predict_demand(price, discount, competitor_price, holiday, region_dummy, season_dummy, weather_dummy):\n",
    "    input_dict = {\n",
    "        'Price': price,\n",
    "        'Discount': discount,\n",
    "        'Competitor Pricing': competitor_price,\n",
    "        'Holiday/Promotion': holiday\n",
    "    }\n",
    "\n",
    "    # Add dummy fields with default 0\n",
    "    for col in X.columns:\n",
    "        if col not in input_dict:\n",
    "            input_dict[col] = 0\n",
    "\n",
    "    # Update based on selected dummies\n",
    "    input_dict.update(region_dummy)\n",
    "    input_dict.update(season_dummy)\n",
    "    input_dict.update(weather_dummy)\n",
    "\n",
    "    input_df = pd.DataFrame([input_dict])\n",
    "    return model.predict(input_df)[0]\n",
    "\n",
    "# Example usage\n",
    "predict_demand(30, 0.1, 28, 1, {'Region_North':1}, {'Seasonality_Winter':1}, {'Weather Condition_Sunny':1})\n"
   ]
  },
  {
   "cell_type": "markdown",
   "id": "76564b7b",
   "metadata": {},
   "source": [
    "## Conclusion\n",
    "- This model helps estimate product demand based on pricing, competitor prices, and other contextual variables.\n",
    "- The `predict_demand()` function enables user input integration in an app.\n",
    "- Confidence intervals from the OLS model provide insight into the reliability of estimates.\n",
    "- This notebook is ready for integration into a Streamlit app."
   ]
  }
 ],
 "metadata": {},
 "nbformat": 4,
 "nbformat_minor": 5
}