{
 "cells": [
  {
   "cell_type": "markdown",
   "id": "0b640166",
   "metadata": {},
   "source": [
    "# Nexford Final Project: Pricing Optimization using Linear Regression\n",
    "This notebook demonstrates demand prediction using a Linear Regression model with pricing-related features and dummy variables handled properly."
   ]
  },
  {
   "cell_type": "code",
   "execution_count": null,
   "id": "e9745d12",
   "metadata": {},
   "outputs": [],
   "source": [
    "import pandas as pd\n",
    "import numpy as np\n",
    "import matplotlib.pyplot as plt\n",
    "import seaborn as sns\n",
    "from sklearn.linear_model import LinearRegression\n",
    "from sklearn.model_selection import train_test_split\n",
    "from sklearn.metrics import mean_squared_error, r2_score\n",
    "import statsmodels.api as sm\n"
   ]
  },
  {
   "cell_type": "code",
   "execution_count": null,
   "id": "27a50a4a",
   "metadata": {},
   "outputs": [],
   "source": [
    "df = pd.read_csv(\"retail_store_inventory.csv\")\n",
    "df.head()\n"
   ]
  },
  {
   "cell_type": "markdown",
   "id": "8307a023",
   "metadata": {},
   "source": [
    "## Data Cleaning and Feature Preparation"
   ]
  },
  {
   "cell_type": "code",
   "execution_count": null,
   "id": "0bc4dbd4",
   "metadata": {},
   "outputs": [],
   "source": [
    "# Drop missing values\n",
    "df.dropna(inplace=True)\n",
    "\n",
    "# Convert Discount to decimal\n",
    "df['Discount'] = df['Discount'] / 100.0\n",
    "\n",
    "# Create dummy variables\n",
    "df = pd.get_dummies(df, columns=['Region', 'Seasonality', 'Weather Condition'], drop_first=True)\n",
    "\n",
    "# Define features\n",
    "features = ['Price', 'Discount', 'Competitor Pricing', 'Holiday/Promotion'] +            [col for col in df.columns if 'Region_' in col or 'Seasonality_' in col or 'Weather Condition_' in col]\n",
    "\n",
    "X = df[features].copy()\n",
    "y = df['Units Sold'].astype(float)\n"
   ]
  },
  {
   "cell_type": "markdown",
   "id": "a94e86f5",
   "metadata": {},
   "source": [
    "## Train the Linear Regression Model"
   ]
  },
  {
   "cell_type": "code",
   "execution_count": null,
   "id": "3230bb67",
   "metadata": {},
   "outputs": [],
   "source": [
    "X_train, X_test, y_train, y_test = train_test_split(X, y, test_size=0.2, random_state=42)\n",
    "\n",
    "model = LinearRegression()\n",
    "model.fit(X_train, y_train)\n",
    "\n",
    "y_pred = model.predict(X_test)\n",
    "\n",
    "print(\"R-squared:\", r2_score(y_test, y_pred))\n",
    "print(\"RMSE:\", np.sqrt(mean_squared_error(y_test, y_pred)))\n"
   ]
  },
  {
   "cell_type": "markdown",
   "id": "5366526e",
   "metadata": {},
   "source": [
    "## Confidence Intervals Using OLS"
   ]
  },
  {
   "cell_type": "code",
   "execution_count": null,
   "id": "2b2a9769",
   "metadata": {},
   "outputs": [],
   "source": [
    "# Ensure all data is float\n",
    "X_train_ols = sm.add_constant(X_train.astype(float))\n",
    "ols_model = sm.OLS(y_train.astype(float), X_train_ols).fit()\n",
    "print(ols_model.summary())\n"
   ]
  },
  {
   "cell_type": "markdown",
   "id": "36ac23bd",
   "metadata": {},
   "source": [
    "## Predict Demand Function"
   ]
  },
  {
   "cell_type": "code",
   "execution_count": null,
   "id": "b40dbee1",
   "metadata": {},
   "outputs": [],
   "source": [
    "def predict_demand(price, discount, competitor_price, holiday, **kwargs):\n",
    "    # Create a base dictionary\n",
    "    input_data = {\n",
    "        'Price': price,\n",
    "        'Discount': discount,\n",
    "        'Competitor Pricing': competitor_price,\n",
    "        'Holiday/Promotion': holiday\n",
    "    }\n",
    "\n",
    "    # Add dummy variables\n",
    "    for col in X.columns:\n",
    "        if col not in input_data:\n",
    "            input_data[col] = kwargs.get(col, 0)\n",
    "\n",
    "    input_df = pd.DataFrame([input_data])\n",
    "    return model.predict(input_df)[0]\n",
    "\n",
    "# Example\n",
    "predict_demand(30, 0.1, 28, 1, **{'Region_North': 1, 'Seasonality_Winter': 1, 'Weather Condition_Sunny': 1})\n"
   ]
  },
  {
   "cell_type": "markdown",
   "id": "6154fb70",
   "metadata": {},
   "source": [
    "## Conclusion\n",
    "- Linear Regression model trained on cleaned retail data.\n",
    "- OLS summary shows significance and confidence of each feature.\n",
    "- `predict_demand()` enables dynamic user input integration in apps like Streamlit."
   ]
  }
 ],
 "metadata": {},
 "nbformat": 4,
 "nbformat_minor": 5
}