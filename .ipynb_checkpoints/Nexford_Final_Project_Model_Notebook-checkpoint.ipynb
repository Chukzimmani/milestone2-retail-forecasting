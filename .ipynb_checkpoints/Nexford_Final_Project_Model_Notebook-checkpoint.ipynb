
{
 "cells": [
  {
   "cell_type": "markdown",
   "metadata": {},
   "source": [
    "# Nexford Final Project: Pricing Optimization using Linear Regression\n",
    "This notebook documents the full process of building a Linear Regression model to predict product demand based on pricing, discount, and other features."
   ]
  },
  {
   "cell_type": "code",
   "execution_count": null,
   "metadata": {},
   "outputs": [],
   "source": [
    "# 1. Import libraries\n",
    "import pandas as pd\n",
    "import numpy as np\n",
    "import matplotlib.pyplot as plt\n",
    "import seaborn as sns\n",
    "from sklearn.linear_model import LinearRegression\n",
    "from sklearn.model_selection import train_test_split\n",
    "from sklearn.metrics import mean_squared_error, r2_score\n",
    "import statsmodels.api as sm"
   ]
  },
  {
   "cell_type": "code",
   "execution_count": null,
   "metadata": {},
   "outputs": [],
   "source": [
    "# 2. Load dataset\n",
    "df = pd.read_csv('original_uncleaned_data.csv')  # replace with actual path\n",
    "df.head()"
   ]
  },
  {
   "cell_type": "markdown",
   "metadata": {},
   "source": [
    "## Data Cleaning and Feature Engineering"
   ]
  },
  {
   "cell_type": "code",
   "execution_count": null,
   "metadata": {},
   "outputs": [],
   "source": [
    "# 3. Clean and prepare data\n",
    "df.dropna(inplace=True)\n",
    "df['Discounted_Price'] = df['Selling_Price'] * (1 - df['Discount'])\n",
    "# Optional: encode categorical variables if necessary\n",
    "# df = pd.get_dummies(df, columns=['Region'], drop_first=True)"
   ]
  },
  {
   "cell_type": "code",
   "execution_count": null,
   "metadata": {},
   "outputs": [],
   "source": [
    "# 4. Define features and target\n",
    "X = df[['Selling_Price', 'Discount', 'Competitor_Price']]\n",
    "y = df['Units_Sold']\n",
    "X_train, X_test, y_train, y_test = train_test_split(X, y, test_size=0.2, random_state=42)"
   ]
  },
  {
   "cell_type": "code",
   "execution_count": null,
   "metadata": {},
   "outputs": [],
   "source": [
    "# 5. Train Linear Regression model\n",
    "model = LinearRegression()\n",
    "model.fit(X_train, y_train)\n",
    "y_pred = model.predict(X_test)\n",
    "print('R-squared:', r2_score(y_test, y_pred))\n",
    "print('RMSE:', np.sqrt(mean_squared_error(y_test, y_pred)))"
   ]
  },
  {
   "cell_type": "markdown",
   "metadata": {},
   "source": [
    "## Confidence Intervals for Predictions"
   ]
  },
  {
   "cell_type": "code",
   "execution_count": null,
   "metadata": {},
   "outputs": [],
   "source": [
    "X2 = sm.add_constant(X_train)\n",
    "ols_model = sm.OLS(y_train, X2).fit()\n",
    "print(ols_model.summary())"
   ]
  },
  {
   "cell_type": "markdown",
   "metadata": {},
   "source": [
    "## Predict Demand Function"
   ]
  },
  {
   "cell_type": "code",
   "execution_count": null,
   "metadata": {},
   "outputs": [],
   "source": [
    "def predict_demand(selling_price, discount, competitor_price):\n",
    "    input_data = pd.DataFrame([[selling_price, discount, competitor_price]],\n",
    "                              columns=['Selling_Price', 'Discount', 'Competitor_Price'])\n",
    "    prediction = model.predict(input_data)[0]\n",
    "    return prediction\n",
    "\n",
    "# Example\n",
    "predict_demand(20, 0.1, 19.5)"
   ]
  },
  {
   "cell_type": "markdown",
   "metadata": {},
   "source": [
    "## Conclusion\n",
    "- The model shows a good R-squared score, indicating reasonable predictive power.\n",
    "- Discounts and competitor pricing play a significant role in demand.\n",
    "- This model is deployed in a Streamlit app with interactive inputs and visualizations."
   ]
  }
 ],
 "metadata": {
  "kernelspec": {
   "display_name": "Python 3",
   "language": "python",
   "name": "python3"
  },
  "language_info": {
   "name": "python",
   "version": ""
  }
 },
 "nbformat": 4,
 "nbformat_minor": 5
}
