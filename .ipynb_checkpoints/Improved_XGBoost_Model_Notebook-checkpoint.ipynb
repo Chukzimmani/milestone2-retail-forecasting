{
 "cells": [
  {
   "cell_type": "markdown",
   "id": "2cdc89fc",
   "metadata": {},
   "source": [
    "# Improved XGBoost Model with Feature Engineering"
   ]
  },
  {
   "cell_type": "code",
   "execution_count": null,
   "id": "d4a18984",
   "metadata": {},
   "outputs": [],
   "source": [
    "import pandas as pd\n",
    "import numpy as np\n",
    "from sklearn.model_selection import train_test_split\n",
    "from sklearn.metrics import r2_score, mean_squared_error\n",
    "from xgboost import XGBRegressor\n",
    "import matplotlib.pyplot as plt\n",
    "import seaborn as sns\n"
   ]
  },
  {
   "cell_type": "code",
   "execution_count": null,
   "id": "b99c0185",
   "metadata": {},
   "outputs": [],
   "source": [
    "# Load dataset\n",
    "df = pd.read_csv(\"retail_store_inventory.csv\")\n",
    "df.dropna(inplace=True)\n",
    "df['Date'] = pd.to_datetime(df['Date'])\n",
    "\n",
    "# Feature engineering\n",
    "df['Discount'] = df['Discount'] / 100.0\n",
    "df['Price_After_Discount'] = df['Price'] * (1 - df['Discount'])\n",
    "df['Is_Promo'] = ((df['Holiday/Promotion'] == 1) | (df['Discount'] > 0)).astype(int)\n",
    "\n",
    "# Encode 'Category'\n",
    "df = pd.get_dummies(df, columns=['Category'], drop_first=True)\n",
    "\n",
    "# Encode other categorical variables\n",
    "df = pd.get_dummies(df, columns=['Region', 'Seasonality', 'Weather Condition'], drop_first=True)\n",
    "\n",
    "# Feature selection\n",
    "features = [\n",
    "    'Price', 'Discount', 'Competitor Pricing', 'Holiday/Promotion', 'Inventory Level',\n",
    "    'Price_After_Discount', 'Is_Promo'\n",
    "] + [col for col in df.columns if 'Category_' in col or 'Region_' in col or \n",
    "     'Seasonality_' in col or 'Weather Condition_' in col]\n",
    "\n",
    "X = df[features]\n",
    "y = df['Units Sold']\n",
    "\n",
    "# Split data\n",
    "X_train, X_test, y_train, y_test = train_test_split(X, y, test_size=0.2, random_state=42)\n"
   ]
  },
  {
   "cell_type": "code",
   "execution_count": null,
   "id": "9911aff5",
   "metadata": {},
   "outputs": [],
   "source": [
    "# Train XGBoost model\n",
    "model = XGBRegressor(objective='reg:squarederror', random_state=42,\n",
    "                     n_estimators=200, max_depth=5, learning_rate=0.05)\n",
    "model.fit(X_train, y_train)\n",
    "\n",
    "# Predict and evaluate\n",
    "y_pred = model.predict(X_test)\n",
    "r2 = r2_score(y_test, y_pred)\n",
    "rmse = np.sqrt(mean_squared_error(y_test, y_pred))\n",
    "\n",
    "print(\"R-squared:\", r2)\n",
    "print(\"RMSE:\", rmse)\n"
   ]
  },
  {
   "cell_type": "code",
   "execution_count": null,
   "id": "0441697b",
   "metadata": {},
   "outputs": [],
   "source": [
    "# Plot feature importance\n",
    "plt.figure(figsize=(12, 6))\n",
    "importance = model.feature_importances_\n",
    "sorted_idx = np.argsort(importance)[::-1]\n",
    "sns.barplot(x=importance[sorted_idx], y=np.array(X.columns)[sorted_idx])\n",
    "plt.title(\"Feature Importance - XGBoost\")\n",
    "plt.tight_layout()\n",
    "plt.show()\n"
   ]
  }
 ],
 "metadata": {},
 "nbformat": 4,
 "nbformat_minor": 5
}